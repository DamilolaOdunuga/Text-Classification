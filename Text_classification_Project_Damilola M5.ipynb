{
 "cells": [
  {
   "cell_type": "markdown",
   "id": "fd3ae7a1",
   "metadata": {},
   "source": [
    "### TEXT CLASSIFICATION"
   ]
  },
  {
   "cell_type": "code",
   "execution_count": 1,
   "id": "d5dde915",
   "metadata": {},
   "outputs": [],
   "source": [
    "# import packages for analysis\n",
    "import bamboolib as bam\n",
    "import pandas as pd\n",
    "import matplotlib.pyplot as plt\n",
    "%matplotlib inline\n",
    "import numpy as np\n",
    "import seaborn as sns\n",
    "from collections import Counter\n",
    "from sklearn.model_selection import train_test_split\n",
    "from sklearn.neighbors import KNeighborsClassifier\n",
    "from sklearn.metrics import confusion_matrix, classification_report\n",
    "from sklearn.neural_network import MLPClassifier"
   ]
  },
  {
   "cell_type": "code",
   "execution_count": 2,
   "id": "6053e61b",
   "metadata": {},
   "outputs": [
    {
     "data": {
      "application/vnd.jupyter.widget-view+json": {
       "model_id": "f8a23eeddfbb4c70bb9ca8abd0bb9687"
      },
      "text/html": [
       "<div>\n",
       "<style scoped>\n",
       "    .dataframe tbody tr th:only-of-type {\n",
       "        vertical-align: middle;\n",
       "    }\n",
       "\n",
       "    .dataframe tbody tr th {\n",
       "        vertical-align: top;\n",
       "    }\n",
       "\n",
       "    .dataframe thead th {\n",
       "        text-align: right;\n",
       "    }\n",
       "</style>\n",
       "<table border=\"1\" class=\"dataframe\">\n",
       "  <thead>\n",
       "    <tr style=\"text-align: right;\">\n",
       "      <th></th>\n",
       "      <th>label</th>\n",
       "      <th>pixel43</th>\n",
       "      <th>pixel44</th>\n",
       "      <th>pixel92</th>\n",
       "      <th>pixel124</th>\n",
       "      <th>pixel125</th>\n",
       "      <th>pixel126</th>\n",
       "      <th>pixel127</th>\n",
       "      <th>pixel128</th>\n",
       "      <th>pixel129</th>\n",
       "      <th>...</th>\n",
       "      <th>pixel329</th>\n",
       "      <th>pixel351</th>\n",
       "      <th>pixel410</th>\n",
       "      <th>pixel411</th>\n",
       "      <th>pixel412</th>\n",
       "      <th>pixel413</th>\n",
       "      <th>pixel414</th>\n",
       "      <th>pixel415</th>\n",
       "      <th>pixel416</th>\n",
       "      <th>pixel417</th>\n",
       "    </tr>\n",
       "  </thead>\n",
       "  <tbody>\n",
       "    <tr>\n",
       "      <th>0</th>\n",
       "      <td>1</td>\n",
       "      <td>0</td>\n",
       "      <td>0</td>\n",
       "      <td>0</td>\n",
       "      <td>0</td>\n",
       "      <td>0</td>\n",
       "      <td>0</td>\n",
       "      <td>0</td>\n",
       "      <td>0</td>\n",
       "      <td>0</td>\n",
       "      <td>...</td>\n",
       "      <td>0</td>\n",
       "      <td>254</td>\n",
       "      <td>0</td>\n",
       "      <td>0</td>\n",
       "      <td>0</td>\n",
       "      <td>0</td>\n",
       "      <td>0</td>\n",
       "      <td>0</td>\n",
       "      <td>0</td>\n",
       "      <td>0</td>\n",
       "    </tr>\n",
       "    <tr>\n",
       "      <th>1</th>\n",
       "      <td>0</td>\n",
       "      <td>0</td>\n",
       "      <td>0</td>\n",
       "      <td>0</td>\n",
       "      <td>137</td>\n",
       "      <td>137</td>\n",
       "      <td>192</td>\n",
       "      <td>86</td>\n",
       "      <td>72</td>\n",
       "      <td>1</td>\n",
       "      <td>...</td>\n",
       "      <td>254</td>\n",
       "      <td>0</td>\n",
       "      <td>0</td>\n",
       "      <td>75</td>\n",
       "      <td>254</td>\n",
       "      <td>254</td>\n",
       "      <td>254</td>\n",
       "      <td>17</td>\n",
       "      <td>0</td>\n",
       "      <td>0</td>\n",
       "    </tr>\n",
       "    <tr>\n",
       "      <th>2</th>\n",
       "      <td>1</td>\n",
       "      <td>0</td>\n",
       "      <td>0</td>\n",
       "      <td>0</td>\n",
       "      <td>3</td>\n",
       "      <td>141</td>\n",
       "      <td>139</td>\n",
       "      <td>3</td>\n",
       "      <td>0</td>\n",
       "      <td>0</td>\n",
       "      <td>...</td>\n",
       "      <td>0</td>\n",
       "      <td>184</td>\n",
       "      <td>0</td>\n",
       "      <td>0</td>\n",
       "      <td>0</td>\n",
       "      <td>0</td>\n",
       "      <td>0</td>\n",
       "      <td>0</td>\n",
       "      <td>0</td>\n",
       "      <td>0</td>\n",
       "    </tr>\n",
       "    <tr>\n",
       "      <th>3</th>\n",
       "      <td>4</td>\n",
       "      <td>0</td>\n",
       "      <td>0</td>\n",
       "      <td>0</td>\n",
       "      <td>0</td>\n",
       "      <td>0</td>\n",
       "      <td>0</td>\n",
       "      <td>0</td>\n",
       "      <td>0</td>\n",
       "      <td>0</td>\n",
       "      <td>...</td>\n",
       "      <td>0</td>\n",
       "      <td>0</td>\n",
       "      <td>94</td>\n",
       "      <td>255</td>\n",
       "      <td>69</td>\n",
       "      <td>0</td>\n",
       "      <td>0</td>\n",
       "      <td>0</td>\n",
       "      <td>0</td>\n",
       "      <td>0</td>\n",
       "    </tr>\n",
       "    <tr>\n",
       "      <th>4</th>\n",
       "      <td>0</td>\n",
       "      <td>0</td>\n",
       "      <td>0</td>\n",
       "      <td>0</td>\n",
       "      <td>155</td>\n",
       "      <td>254</td>\n",
       "      <td>254</td>\n",
       "      <td>254</td>\n",
       "      <td>157</td>\n",
       "      <td>30</td>\n",
       "      <td>...</td>\n",
       "      <td>253</td>\n",
       "      <td>0</td>\n",
       "      <td>0</td>\n",
       "      <td>0</td>\n",
       "      <td>223</td>\n",
       "      <td>253</td>\n",
       "      <td>253</td>\n",
       "      <td>253</td>\n",
       "      <td>129</td>\n",
       "      <td>0</td>\n",
       "    </tr>\n",
       "  </tbody>\n",
       "</table>\n",
       "<p>5 rows × 46 columns</p>\n",
       "</div>"
      ],
      "text/plain": [
       "   label  pixel43  pixel44  pixel92  pixel124  pixel125  pixel126  pixel127  \\\n",
       "0      1        0        0        0         0         0         0         0   \n",
       "1      0        0        0        0       137       137       192        86   \n",
       "2      1        0        0        0         3       141       139         3   \n",
       "3      4        0        0        0         0         0         0         0   \n",
       "4      0        0        0        0       155       254       254       254   \n",
       "\n",
       "   pixel128  pixel129  ...  pixel329  pixel351  pixel410  pixel411  pixel412  \\\n",
       "0         0         0  ...         0       254         0         0         0   \n",
       "1        72         1  ...       254         0         0        75       254   \n",
       "2         0         0  ...         0       184         0         0         0   \n",
       "3         0         0  ...         0         0        94       255        69   \n",
       "4       157        30  ...       253         0         0         0       223   \n",
       "\n",
       "   pixel413  pixel414  pixel415  pixel416  pixel417  \n",
       "0         0         0         0         0         0  \n",
       "1       254       254        17         0         0  \n",
       "2         0         0         0         0         0  \n",
       "3         0         0         0         0         0  \n",
       "4       253       253       253       129         0  \n",
       "\n",
       "[5 rows x 46 columns]"
      ]
     },
     "metadata": {},
     "output_type": "display_data"
    }
   ],
   "source": [
    "#load data set\n",
    "letter =  pd.read_csv(\"/Users/damilolaodunuga/Downloads/PC File/ALY 6020/letters.csv\")\n",
    "letter.head()"
   ]
  },
  {
   "cell_type": "code",
   "execution_count": 3,
   "id": "35b95019",
   "metadata": {},
   "outputs": [
    {
     "data": {
      "text/plain": [
       "False"
      ]
     },
     "execution_count": 3,
     "metadata": {},
     "output_type": "execute_result"
    }
   ],
   "source": [
    "#Find null values\n",
    "letter.isnull().values.any()"
   ]
  },
  {
   "cell_type": "code",
   "execution_count": 4,
   "id": "a207f68d",
   "metadata": {},
   "outputs": [
    {
     "data": {
      "application/vnd.jupyter.widget-view+json": {
       "model_id": "792158c4e0ce4278b928f8bc8d215317"
      },
      "text/html": [
       "<div>\n",
       "<style scoped>\n",
       "    .dataframe tbody tr th:only-of-type {\n",
       "        vertical-align: middle;\n",
       "    }\n",
       "\n",
       "    .dataframe tbody tr th {\n",
       "        vertical-align: top;\n",
       "    }\n",
       "\n",
       "    .dataframe thead th {\n",
       "        text-align: right;\n",
       "    }\n",
       "</style>\n",
       "<table border=\"1\" class=\"dataframe\">\n",
       "  <thead>\n",
       "    <tr style=\"text-align: right;\">\n",
       "      <th></th>\n",
       "      <th>count</th>\n",
       "      <th>mean</th>\n",
       "      <th>std</th>\n",
       "      <th>min</th>\n",
       "      <th>25%</th>\n",
       "      <th>50%</th>\n",
       "      <th>75%</th>\n",
       "      <th>max</th>\n",
       "    </tr>\n",
       "  </thead>\n",
       "  <tbody>\n",
       "    <tr>\n",
       "      <th>label</th>\n",
       "      <td>42000.0</td>\n",
       "      <td>4.456643</td>\n",
       "      <td>2.887730</td>\n",
       "      <td>0.0</td>\n",
       "      <td>2.0</td>\n",
       "      <td>4.0</td>\n",
       "      <td>7.0</td>\n",
       "      <td>9.0</td>\n",
       "    </tr>\n",
       "    <tr>\n",
       "      <th>pixel43</th>\n",
       "      <td>42000.0</td>\n",
       "      <td>0.171357</td>\n",
       "      <td>5.726352</td>\n",
       "      <td>0.0</td>\n",
       "      <td>0.0</td>\n",
       "      <td>0.0</td>\n",
       "      <td>0.0</td>\n",
       "      <td>255.0</td>\n",
       "    </tr>\n",
       "    <tr>\n",
       "      <th>pixel44</th>\n",
       "      <td>42000.0</td>\n",
       "      <td>0.164476</td>\n",
       "      <td>5.515774</td>\n",
       "      <td>0.0</td>\n",
       "      <td>0.0</td>\n",
       "      <td>0.0</td>\n",
       "      <td>0.0</td>\n",
       "      <td>255.0</td>\n",
       "    </tr>\n",
       "    <tr>\n",
       "      <th>pixel92</th>\n",
       "      <td>42000.0</td>\n",
       "      <td>1.192833</td>\n",
       "      <td>14.692403</td>\n",
       "      <td>0.0</td>\n",
       "      <td>0.0</td>\n",
       "      <td>0.0</td>\n",
       "      <td>0.0</td>\n",
       "      <td>255.0</td>\n",
       "    </tr>\n",
       "    <tr>\n",
       "      <th>pixel124</th>\n",
       "      <td>42000.0</td>\n",
       "      <td>28.043952</td>\n",
       "      <td>70.505431</td>\n",
       "      <td>0.0</td>\n",
       "      <td>0.0</td>\n",
       "      <td>0.0</td>\n",
       "      <td>0.0</td>\n",
       "      <td>255.0</td>\n",
       "    </tr>\n",
       "    <tr>\n",
       "      <th>pixel125</th>\n",
       "      <td>42000.0</td>\n",
       "      <td>36.084976</td>\n",
       "      <td>78.631145</td>\n",
       "      <td>0.0</td>\n",
       "      <td>0.0</td>\n",
       "      <td>0.0</td>\n",
       "      <td>0.0</td>\n",
       "      <td>255.0</td>\n",
       "    </tr>\n",
       "    <tr>\n",
       "      <th>pixel126</th>\n",
       "      <td>42000.0</td>\n",
       "      <td>42.713952</td>\n",
       "      <td>84.390533</td>\n",
       "      <td>0.0</td>\n",
       "      <td>0.0</td>\n",
       "      <td>0.0</td>\n",
       "      <td>10.0</td>\n",
       "      <td>255.0</td>\n",
       "    </tr>\n",
       "    <tr>\n",
       "      <th>pixel127</th>\n",
       "      <td>42000.0</td>\n",
       "      <td>46.092310</td>\n",
       "      <td>87.287033</td>\n",
       "      <td>0.0</td>\n",
       "      <td>0.0</td>\n",
       "      <td>0.0</td>\n",
       "      <td>29.0</td>\n",
       "      <td>255.0</td>\n",
       "    </tr>\n",
       "    <tr>\n",
       "      <th>pixel128</th>\n",
       "      <td>42000.0</td>\n",
       "      <td>44.542452</td>\n",
       "      <td>85.740313</td>\n",
       "      <td>0.0</td>\n",
       "      <td>0.0</td>\n",
       "      <td>0.0</td>\n",
       "      <td>21.0</td>\n",
       "      <td>255.0</td>\n",
       "    </tr>\n",
       "    <tr>\n",
       "      <th>pixel129</th>\n",
       "      <td>42000.0</td>\n",
       "      <td>38.948524</td>\n",
       "      <td>81.223946</td>\n",
       "      <td>0.0</td>\n",
       "      <td>0.0</td>\n",
       "      <td>0.0</td>\n",
       "      <td>0.0</td>\n",
       "      <td>255.0</td>\n",
       "    </tr>\n",
       "    <tr>\n",
       "      <th>pixel130</th>\n",
       "      <td>42000.0</td>\n",
       "      <td>30.964762</td>\n",
       "      <td>73.631465</td>\n",
       "      <td>0.0</td>\n",
       "      <td>0.0</td>\n",
       "      <td>0.0</td>\n",
       "      <td>0.0</td>\n",
       "      <td>255.0</td>\n",
       "    </tr>\n",
       "    <tr>\n",
       "      <th>pixel131</th>\n",
       "      <td>42000.0</td>\n",
       "      <td>22.909548</td>\n",
       "      <td>64.391170</td>\n",
       "      <td>0.0</td>\n",
       "      <td>0.0</td>\n",
       "      <td>0.0</td>\n",
       "      <td>0.0</td>\n",
       "      <td>255.0</td>\n",
       "    </tr>\n",
       "    <tr>\n",
       "      <th>pixel132</th>\n",
       "      <td>42000.0</td>\n",
       "      <td>14.868857</td>\n",
       "      <td>52.365152</td>\n",
       "      <td>0.0</td>\n",
       "      <td>0.0</td>\n",
       "      <td>0.0</td>\n",
       "      <td>0.0</td>\n",
       "      <td>255.0</td>\n",
       "    </tr>\n",
       "    <tr>\n",
       "      <th>pixel133</th>\n",
       "      <td>42000.0</td>\n",
       "      <td>8.691619</td>\n",
       "      <td>40.089466</td>\n",
       "      <td>0.0</td>\n",
       "      <td>0.0</td>\n",
       "      <td>0.0</td>\n",
       "      <td>0.0</td>\n",
       "      <td>255.0</td>\n",
       "    </tr>\n",
       "    <tr>\n",
       "      <th>pixel134</th>\n",
       "      <td>42000.0</td>\n",
       "      <td>4.550786</td>\n",
       "      <td>28.811324</td>\n",
       "      <td>0.0</td>\n",
       "      <td>0.0</td>\n",
       "      <td>0.0</td>\n",
       "      <td>0.0</td>\n",
       "      <td>255.0</td>\n",
       "    </tr>\n",
       "    <tr>\n",
       "      <th>pixel135</th>\n",
       "      <td>42000.0</td>\n",
       "      <td>2.099881</td>\n",
       "      <td>19.634788</td>\n",
       "      <td>0.0</td>\n",
       "      <td>0.0</td>\n",
       "      <td>0.0</td>\n",
       "      <td>0.0</td>\n",
       "      <td>255.0</td>\n",
       "    </tr>\n",
       "    <tr>\n",
       "      <th>pixel136</th>\n",
       "      <td>42000.0</td>\n",
       "      <td>0.838762</td>\n",
       "      <td>12.019612</td>\n",
       "      <td>0.0</td>\n",
       "      <td>0.0</td>\n",
       "      <td>0.0</td>\n",
       "      <td>0.0</td>\n",
       "      <td>255.0</td>\n",
       "    </tr>\n",
       "    <tr>\n",
       "      <th>pixel137</th>\n",
       "      <td>42000.0</td>\n",
       "      <td>0.202762</td>\n",
       "      <td>5.462245</td>\n",
       "      <td>0.0</td>\n",
       "      <td>0.0</td>\n",
       "      <td>0.0</td>\n",
       "      <td>0.0</td>\n",
       "      <td>254.0</td>\n",
       "    </tr>\n",
       "    <tr>\n",
       "      <th>pixel138</th>\n",
       "      <td>42000.0</td>\n",
       "      <td>0.035476</td>\n",
       "      <td>2.335536</td>\n",
       "      <td>0.0</td>\n",
       "      <td>0.0</td>\n",
       "      <td>0.0</td>\n",
       "      <td>0.0</td>\n",
       "      <td>230.0</td>\n",
       "    </tr>\n",
       "    <tr>\n",
       "      <th>pixel146</th>\n",
       "      <td>42000.0</td>\n",
       "      <td>3.557690</td>\n",
       "      <td>25.518983</td>\n",
       "      <td>0.0</td>\n",
       "      <td>0.0</td>\n",
       "      <td>0.0</td>\n",
       "      <td>0.0</td>\n",
       "      <td>255.0</td>\n",
       "    </tr>\n",
       "    <tr>\n",
       "      <th>pixel147</th>\n",
       "      <td>42000.0</td>\n",
       "      <td>7.149929</td>\n",
       "      <td>36.402328</td>\n",
       "      <td>0.0</td>\n",
       "      <td>0.0</td>\n",
       "      <td>0.0</td>\n",
       "      <td>0.0</td>\n",
       "      <td>255.0</td>\n",
       "    </tr>\n",
       "    <tr>\n",
       "      <th>pixel148</th>\n",
       "      <td>42000.0</td>\n",
       "      <td>12.928143</td>\n",
       "      <td>48.951568</td>\n",
       "      <td>0.0</td>\n",
       "      <td>0.0</td>\n",
       "      <td>0.0</td>\n",
       "      <td>0.0</td>\n",
       "      <td>255.0</td>\n",
       "    </tr>\n",
       "    <tr>\n",
       "      <th>pixel149</th>\n",
       "      <td>42000.0</td>\n",
       "      <td>21.419881</td>\n",
       "      <td>62.484604</td>\n",
       "      <td>0.0</td>\n",
       "      <td>0.0</td>\n",
       "      <td>0.0</td>\n",
       "      <td>0.0</td>\n",
       "      <td>255.0</td>\n",
       "    </tr>\n",
       "    <tr>\n",
       "      <th>pixel150</th>\n",
       "      <td>42000.0</td>\n",
       "      <td>32.221857</td>\n",
       "      <td>75.183031</td>\n",
       "      <td>0.0</td>\n",
       "      <td>0.0</td>\n",
       "      <td>0.0</td>\n",
       "      <td>0.0</td>\n",
       "      <td>255.0</td>\n",
       "    </tr>\n",
       "    <tr>\n",
       "      <th>pixel151</th>\n",
       "      <td>42000.0</td>\n",
       "      <td>45.363500</td>\n",
       "      <td>86.645879</td>\n",
       "      <td>0.0</td>\n",
       "      <td>0.0</td>\n",
       "      <td>0.0</td>\n",
       "      <td>27.0</td>\n",
       "      <td>255.0</td>\n",
       "    </tr>\n",
       "    <tr>\n",
       "      <th>pixel152</th>\n",
       "      <td>42000.0</td>\n",
       "      <td>60.175929</td>\n",
       "      <td>96.333439</td>\n",
       "      <td>0.0</td>\n",
       "      <td>0.0</td>\n",
       "      <td>0.0</td>\n",
       "      <td>114.0</td>\n",
       "      <td>255.0</td>\n",
       "    </tr>\n",
       "    <tr>\n",
       "      <th>pixel153</th>\n",
       "      <td>42000.0</td>\n",
       "      <td>75.010571</td>\n",
       "      <td>103.488456</td>\n",
       "      <td>0.0</td>\n",
       "      <td>0.0</td>\n",
       "      <td>0.0</td>\n",
       "      <td>175.0</td>\n",
       "      <td>255.0</td>\n",
       "    </tr>\n",
       "    <tr>\n",
       "      <th>pixel154</th>\n",
       "      <td>42000.0</td>\n",
       "      <td>86.296405</td>\n",
       "      <td>107.473450</td>\n",
       "      <td>0.0</td>\n",
       "      <td>0.0</td>\n",
       "      <td>0.0</td>\n",
       "      <td>213.0</td>\n",
       "      <td>255.0</td>\n",
       "    </tr>\n",
       "    <tr>\n",
       "      <th>pixel155</th>\n",
       "      <td>42000.0</td>\n",
       "      <td>91.588143</td>\n",
       "      <td>108.790348</td>\n",
       "      <td>0.0</td>\n",
       "      <td>0.0</td>\n",
       "      <td>0.0</td>\n",
       "      <td>225.0</td>\n",
       "      <td>255.0</td>\n",
       "    </tr>\n",
       "    <tr>\n",
       "      <th>pixel156</th>\n",
       "      <td>42000.0</td>\n",
       "      <td>89.450286</td>\n",
       "      <td>108.040910</td>\n",
       "      <td>0.0</td>\n",
       "      <td>0.0</td>\n",
       "      <td>0.0</td>\n",
       "      <td>220.0</td>\n",
       "      <td>255.0</td>\n",
       "    </tr>\n",
       "    <tr>\n",
       "      <th>pixel157</th>\n",
       "      <td>42000.0</td>\n",
       "      <td>80.302595</td>\n",
       "      <td>105.144387</td>\n",
       "      <td>0.0</td>\n",
       "      <td>0.0</td>\n",
       "      <td>0.0</td>\n",
       "      <td>194.0</td>\n",
       "      <td>255.0</td>\n",
       "    </tr>\n",
       "    <tr>\n",
       "      <th>pixel158</th>\n",
       "      <td>42000.0</td>\n",
       "      <td>65.761976</td>\n",
       "      <td>98.845901</td>\n",
       "      <td>0.0</td>\n",
       "      <td>0.0</td>\n",
       "      <td>0.0</td>\n",
       "      <td>138.0</td>\n",
       "      <td>255.0</td>\n",
       "    </tr>\n",
       "    <tr>\n",
       "      <th>pixel159</th>\n",
       "      <td>42000.0</td>\n",
       "      <td>49.647786</td>\n",
       "      <td>89.476442</td>\n",
       "      <td>0.0</td>\n",
       "      <td>0.0</td>\n",
       "      <td>0.0</td>\n",
       "      <td>51.0</td>\n",
       "      <td>255.0</td>\n",
       "    </tr>\n",
       "    <tr>\n",
       "      <th>pixel160</th>\n",
       "      <td>42000.0</td>\n",
       "      <td>34.390500</td>\n",
       "      <td>76.850579</td>\n",
       "      <td>0.0</td>\n",
       "      <td>0.0</td>\n",
       "      <td>0.0</td>\n",
       "      <td>0.0</td>\n",
       "      <td>255.0</td>\n",
       "    </tr>\n",
       "    <tr>\n",
       "      <th>pixel327</th>\n",
       "      <td>42000.0</td>\n",
       "      <td>88.699262</td>\n",
       "      <td>107.822933</td>\n",
       "      <td>0.0</td>\n",
       "      <td>0.0</td>\n",
       "      <td>1.0</td>\n",
       "      <td>222.0</td>\n",
       "      <td>255.0</td>\n",
       "    </tr>\n",
       "    <tr>\n",
       "      <th>pixel328</th>\n",
       "      <td>42000.0</td>\n",
       "      <td>64.587571</td>\n",
       "      <td>98.869820</td>\n",
       "      <td>0.0</td>\n",
       "      <td>0.0</td>\n",
       "      <td>0.0</td>\n",
       "      <td>131.0</td>\n",
       "      <td>255.0</td>\n",
       "    </tr>\n",
       "    <tr>\n",
       "      <th>pixel329</th>\n",
       "      <td>42000.0</td>\n",
       "      <td>42.461048</td>\n",
       "      <td>85.090524</td>\n",
       "      <td>0.0</td>\n",
       "      <td>0.0</td>\n",
       "      <td>0.0</td>\n",
       "      <td>10.0</td>\n",
       "      <td>255.0</td>\n",
       "    </tr>\n",
       "    <tr>\n",
       "      <th>pixel351</th>\n",
       "      <td>42000.0</td>\n",
       "      <td>102.124119</td>\n",
       "      <td>110.961953</td>\n",
       "      <td>0.0</td>\n",
       "      <td>0.0</td>\n",
       "      <td>39.0</td>\n",
       "      <td>247.0</td>\n",
       "      <td>255.0</td>\n",
       "    </tr>\n",
       "    <tr>\n",
       "      <th>pixel410</th>\n",
       "      <td>42000.0</td>\n",
       "      <td>107.683952</td>\n",
       "      <td>111.360981</td>\n",
       "      <td>0.0</td>\n",
       "      <td>0.0</td>\n",
       "      <td>60.0</td>\n",
       "      <td>250.0</td>\n",
       "      <td>255.0</td>\n",
       "    </tr>\n",
       "    <tr>\n",
       "      <th>pixel411</th>\n",
       "      <td>42000.0</td>\n",
       "      <td>79.750548</td>\n",
       "      <td>104.287852</td>\n",
       "      <td>0.0</td>\n",
       "      <td>0.0</td>\n",
       "      <td>0.0</td>\n",
       "      <td>191.0</td>\n",
       "      <td>255.0</td>\n",
       "    </tr>\n",
       "    <tr>\n",
       "      <th>pixel412</th>\n",
       "      <td>42000.0</td>\n",
       "      <td>56.314810</td>\n",
       "      <td>94.208470</td>\n",
       "      <td>0.0</td>\n",
       "      <td>0.0</td>\n",
       "      <td>0.0</td>\n",
       "      <td>86.0</td>\n",
       "      <td>255.0</td>\n",
       "    </tr>\n",
       "    <tr>\n",
       "      <th>pixel413</th>\n",
       "      <td>42000.0</td>\n",
       "      <td>39.244643</td>\n",
       "      <td>82.799118</td>\n",
       "      <td>0.0</td>\n",
       "      <td>0.0</td>\n",
       "      <td>0.0</td>\n",
       "      <td>0.0</td>\n",
       "      <td>255.0</td>\n",
       "    </tr>\n",
       "    <tr>\n",
       "      <th>pixel414</th>\n",
       "      <td>42000.0</td>\n",
       "      <td>25.754262</td>\n",
       "      <td>69.597297</td>\n",
       "      <td>0.0</td>\n",
       "      <td>0.0</td>\n",
       "      <td>0.0</td>\n",
       "      <td>0.0</td>\n",
       "      <td>255.0</td>\n",
       "    </tr>\n",
       "    <tr>\n",
       "      <th>pixel415</th>\n",
       "      <td>42000.0</td>\n",
       "      <td>14.858619</td>\n",
       "      <td>54.018163</td>\n",
       "      <td>0.0</td>\n",
       "      <td>0.0</td>\n",
       "      <td>0.0</td>\n",
       "      <td>0.0</td>\n",
       "      <td>255.0</td>\n",
       "    </tr>\n",
       "    <tr>\n",
       "      <th>pixel416</th>\n",
       "      <td>42000.0</td>\n",
       "      <td>5.844476</td>\n",
       "      <td>33.293343</td>\n",
       "      <td>0.0</td>\n",
       "      <td>0.0</td>\n",
       "      <td>0.0</td>\n",
       "      <td>0.0</td>\n",
       "      <td>255.0</td>\n",
       "    </tr>\n",
       "    <tr>\n",
       "      <th>pixel417</th>\n",
       "      <td>42000.0</td>\n",
       "      <td>0.829643</td>\n",
       "      <td>11.818307</td>\n",
       "      <td>0.0</td>\n",
       "      <td>0.0</td>\n",
       "      <td>0.0</td>\n",
       "      <td>0.0</td>\n",
       "      <td>255.0</td>\n",
       "    </tr>\n",
       "  </tbody>\n",
       "</table>\n",
       "</div>"
      ],
      "text/plain": [
       "            count        mean         std  min  25%   50%    75%    max\n",
       "label     42000.0    4.456643    2.887730  0.0  2.0   4.0    7.0    9.0\n",
       "pixel43   42000.0    0.171357    5.726352  0.0  0.0   0.0    0.0  255.0\n",
       "pixel44   42000.0    0.164476    5.515774  0.0  0.0   0.0    0.0  255.0\n",
       "pixel92   42000.0    1.192833   14.692403  0.0  0.0   0.0    0.0  255.0\n",
       "pixel124  42000.0   28.043952   70.505431  0.0  0.0   0.0    0.0  255.0\n",
       "pixel125  42000.0   36.084976   78.631145  0.0  0.0   0.0    0.0  255.0\n",
       "pixel126  42000.0   42.713952   84.390533  0.0  0.0   0.0   10.0  255.0\n",
       "pixel127  42000.0   46.092310   87.287033  0.0  0.0   0.0   29.0  255.0\n",
       "pixel128  42000.0   44.542452   85.740313  0.0  0.0   0.0   21.0  255.0\n",
       "pixel129  42000.0   38.948524   81.223946  0.0  0.0   0.0    0.0  255.0\n",
       "pixel130  42000.0   30.964762   73.631465  0.0  0.0   0.0    0.0  255.0\n",
       "pixel131  42000.0   22.909548   64.391170  0.0  0.0   0.0    0.0  255.0\n",
       "pixel132  42000.0   14.868857   52.365152  0.0  0.0   0.0    0.0  255.0\n",
       "pixel133  42000.0    8.691619   40.089466  0.0  0.0   0.0    0.0  255.0\n",
       "pixel134  42000.0    4.550786   28.811324  0.0  0.0   0.0    0.0  255.0\n",
       "pixel135  42000.0    2.099881   19.634788  0.0  0.0   0.0    0.0  255.0\n",
       "pixel136  42000.0    0.838762   12.019612  0.0  0.0   0.0    0.0  255.0\n",
       "pixel137  42000.0    0.202762    5.462245  0.0  0.0   0.0    0.0  254.0\n",
       "pixel138  42000.0    0.035476    2.335536  0.0  0.0   0.0    0.0  230.0\n",
       "pixel146  42000.0    3.557690   25.518983  0.0  0.0   0.0    0.0  255.0\n",
       "pixel147  42000.0    7.149929   36.402328  0.0  0.0   0.0    0.0  255.0\n",
       "pixel148  42000.0   12.928143   48.951568  0.0  0.0   0.0    0.0  255.0\n",
       "pixel149  42000.0   21.419881   62.484604  0.0  0.0   0.0    0.0  255.0\n",
       "pixel150  42000.0   32.221857   75.183031  0.0  0.0   0.0    0.0  255.0\n",
       "pixel151  42000.0   45.363500   86.645879  0.0  0.0   0.0   27.0  255.0\n",
       "pixel152  42000.0   60.175929   96.333439  0.0  0.0   0.0  114.0  255.0\n",
       "pixel153  42000.0   75.010571  103.488456  0.0  0.0   0.0  175.0  255.0\n",
       "pixel154  42000.0   86.296405  107.473450  0.0  0.0   0.0  213.0  255.0\n",
       "pixel155  42000.0   91.588143  108.790348  0.0  0.0   0.0  225.0  255.0\n",
       "pixel156  42000.0   89.450286  108.040910  0.0  0.0   0.0  220.0  255.0\n",
       "pixel157  42000.0   80.302595  105.144387  0.0  0.0   0.0  194.0  255.0\n",
       "pixel158  42000.0   65.761976   98.845901  0.0  0.0   0.0  138.0  255.0\n",
       "pixel159  42000.0   49.647786   89.476442  0.0  0.0   0.0   51.0  255.0\n",
       "pixel160  42000.0   34.390500   76.850579  0.0  0.0   0.0    0.0  255.0\n",
       "pixel327  42000.0   88.699262  107.822933  0.0  0.0   1.0  222.0  255.0\n",
       "pixel328  42000.0   64.587571   98.869820  0.0  0.0   0.0  131.0  255.0\n",
       "pixel329  42000.0   42.461048   85.090524  0.0  0.0   0.0   10.0  255.0\n",
       "pixel351  42000.0  102.124119  110.961953  0.0  0.0  39.0  247.0  255.0\n",
       "pixel410  42000.0  107.683952  111.360981  0.0  0.0  60.0  250.0  255.0\n",
       "pixel411  42000.0   79.750548  104.287852  0.0  0.0   0.0  191.0  255.0\n",
       "pixel412  42000.0   56.314810   94.208470  0.0  0.0   0.0   86.0  255.0\n",
       "pixel413  42000.0   39.244643   82.799118  0.0  0.0   0.0    0.0  255.0\n",
       "pixel414  42000.0   25.754262   69.597297  0.0  0.0   0.0    0.0  255.0\n",
       "pixel415  42000.0   14.858619   54.018163  0.0  0.0   0.0    0.0  255.0\n",
       "pixel416  42000.0    5.844476   33.293343  0.0  0.0   0.0    0.0  255.0\n",
       "pixel417  42000.0    0.829643   11.818307  0.0  0.0   0.0    0.0  255.0"
      ]
     },
     "metadata": {},
     "output_type": "display_data"
    }
   ],
   "source": [
    "letter.describe().T"
   ]
  },
  {
   "cell_type": "code",
   "execution_count": 5,
   "id": "59f7485f",
   "metadata": {},
   "outputs": [
    {
     "data": {
      "text/plain": [
       "(array([8816., 8528., 7867., 8538., 8251.]),\n",
       " array([0. , 1.8, 3.6, 5.4, 7.2, 9. ]),\n",
       " <BarContainer object of 5 artists>)"
      ]
     },
     "execution_count": 5,
     "metadata": {},
     "output_type": "execute_result"
    },
    {
     "data": {
      "image/png": "[encoded data removed]",
      "text/plain": [
       "<Figure size 432x288 with 1 Axes>"
      ]
     },
     "metadata": {
      "needs_background": "light"
     },
     "output_type": "display_data"
    }
   ],
   "source": [
    "plt.hist(letter['label'], bins=5, color='purple', edgecolor='black')"
   ]
  },
  {
   "cell_type": "code",
   "execution_count": 6,
   "id": "635b3721",
   "metadata": {},
   "outputs": [
    {
     "data": {
      "text/plain": [
       "<matplotlib.collections.PathCollection at 0x7fc24796d1c0>"
      ]
     },
     "execution_count": 6,
     "metadata": {},
     "output_type": "execute_result"
    },
    {
     "data": {
      "image/png": "[encoded data removed]",
      "text/plain": [
       "<Figure size 432x288 with 1 Axes>"
      ]
     },
     "metadata": {
      "needs_background": "light"
     },
     "output_type": "display_data"
    }
   ],
   "source": [
    "plt.scatter(letter['pixel155'], letter['label'], color=\"green\",marker='+')"
   ]
  },
  {
   "cell_type": "code",
   "execution_count": 52,
   "id": "d8bda46b",
   "metadata": {},
   "outputs": [
    {
     "data": {
      "text/plain": [
       "(array([25094.,  2013.,  1660.,  1809.,  1948.,  9476.]),\n",
       " array([  0. ,  42.5,  85. , 127.5, 170. , 212.5, 255. ]),\n",
       " <BarContainer object of 6 artists>)"
      ]
     },
     "execution_count": 52,
     "metadata": {},
     "output_type": "execute_result"
    },
    {
     "data": {
      "image/png": "[encoded data removed]",
      "text/plain": [
       "<Figure size 432x288 with 1 Axes>"
      ]
     },
     "metadata": {
      "needs_background": "light"
     },
     "output_type": "display_data"
    }
   ],
   "source": [
    "plt.hist(letter['pixel411'], bins=6, color='red', edgecolor='black')"
   ]
  },
  {
   "cell_type": "markdown",
   "id": "afcecc2c",
   "metadata": {},
   "source": [
    "#### PART 1 - K NEAREST NEIGHBORS"
   ]
  },
  {
   "cell_type": "code",
   "execution_count": 7,
   "id": "5a7712de",
   "metadata": {},
   "outputs": [],
   "source": [
    "# Identify dependent and independent variables\n",
    "x =letter.drop(\"label\", axis=1)\n",
    "y = letter.label"
   ]
  },
  {
   "cell_type": "code",
   "execution_count": 8,
   "id": "619cd251",
   "metadata": {},
   "outputs": [
    {
     "data": {
      "text/plain": [
       "(33600, 8400)"
      ]
     },
     "execution_count": 8,
     "metadata": {},
     "output_type": "execute_result"
    }
   ],
   "source": [
    "# Train and test split\n",
    "x_train, x_test, y_train, y_test =train_test_split(x, y, test_size=0.20, random_state=1)\n",
    "len(x_train), len(x_test)"
   ]
  },
  {
   "cell_type": "code",
   "execution_count": 9,
   "id": "316d4979",
   "metadata": {},
   "outputs": [
    {
     "data": {
      "text/plain": [
       "KNeighborsClassifier(n_neighbors=20)"
      ]
     },
     "execution_count": 9,
     "metadata": {},
     "output_type": "execute_result"
    }
   ],
   "source": [
    "#fitting knn model\n",
    "knn = KNeighborsClassifier(n_neighbors=20)\n",
    "knn.fit(x_train, y_train)"
   ]
  },
  {
   "cell_type": "code",
   "execution_count": 10,
   "id": "f5d74c9b",
   "metadata": {},
   "outputs": [
    {
     "data": {
      "text/plain": [
       "0.6578571428571428"
      ]
     },
     "execution_count": 10,
     "metadata": {},
     "output_type": "execute_result"
    }
   ],
   "source": [
    "knn.score(x_test, y_test)"
   ]
  },
  {
   "cell_type": "code",
   "execution_count": 11,
   "id": "35f0f617",
   "metadata": {},
   "outputs": [],
   "source": [
    "# predict y\n",
    "y_pred = knn.predict(x_test)\n",
    "\n",
    "#confusion matrix\n",
    "letter_cm = confusion_matrix(y_test, y_pred)"
   ]
  },
  {
   "cell_type": "code",
   "execution_count": 12,
   "id": "6c2e860b",
   "metadata": {},
   "outputs": [
    {
     "data": {
      "text/plain": [
       "Text(0.5, 257.44, 'Predicted')"
      ]
     },
     "execution_count": 12,
     "metadata": {},
     "output_type": "execute_result"
    },
    {
     "data": {
      "image/png": "[encoded data removed]",
      "text/plain": [
       "<Figure size 432x288 with 2 Axes>"
      ]
     },
     "metadata": {
      "needs_background": "light"
     },
     "output_type": "display_data"
    }
   ],
   "source": [
    "# name of classes\n",
    "class_names=[0,1]\n",
    "fig, ax =plt.subplots()\n",
    "tick_marks = np.arange(len(class_names))\n",
    "plt.xticks(tick_marks, class_names)\n",
    "plt.yticks(tick_marks, class_names)\n",
    "\n",
    "#create heatmap for confusion matrix\n",
    "sns.heatmap(pd.DataFrame(letter_cm), annot=True, cmap='rocket_r', fmt='g')\n",
    "ax.xaxis.set_label_position('top')\n",
    "plt.tight_layout()\n",
    "plt.title('KNN Confusion matrix', y=1.1)\n",
    "plt.ylabel('Actual')\n",
    "plt.xlabel('Predicted')"
   ]
  },
  {
   "cell_type": "code",
   "execution_count": 13,
   "id": "13170c1b",
   "metadata": {},
   "outputs": [
    {
     "name": "stdout",
     "output_type": "stream",
     "text": [
      "              precision    recall  f1-score   support\n",
      "\n",
      "           0       0.83      0.90      0.86       840\n",
      "           1       0.75      0.96      0.84       941\n",
      "           2       0.66      0.61      0.63       844\n",
      "           3       0.60      0.57      0.58       893\n",
      "           4       0.71      0.49      0.58       788\n",
      "           5       0.69      0.50      0.58       750\n",
      "           6       0.81      0.86      0.84       818\n",
      "           7       0.47      0.68      0.55       867\n",
      "           8       0.66      0.52      0.58       859\n",
      "           9       0.46      0.43      0.44       800\n",
      "\n",
      "    accuracy                           0.66      8400\n",
      "   macro avg       0.66      0.65      0.65      8400\n",
      "weighted avg       0.66      0.66      0.65      8400\n",
      "\n"
     ]
    }
   ],
   "source": [
    "print(classification_report(y_test, y_pred))"
   ]
  },
  {
   "cell_type": "code",
   "execution_count": 14,
   "id": "ab4e5fb8",
   "metadata": {},
   "outputs": [
    {
     "name": "stdout",
     "output_type": "stream",
     "text": [
      "[0.6067857142857143, 0.6019047619047619, 0.6225, 0.6389285714285714, 0.6480952380952381, 0.6532142857142857, 0.6520238095238096, 0.6532142857142857, 0.6544047619047619, 0.6570238095238096, 0.6538095238095238, 0.6566666666666666, 0.6605952380952381, 0.6614285714285715, 0.6611904761904762, 0.6595238095238095, 0.6585714285714286, 0.6586904761904762, 0.6589285714285714]\n"
     ]
    }
   ],
   "source": [
    "from sklearn import metrics\n",
    "\n",
    "# try K=1 through K=15 and record testing accuracy\n",
    "k_range = range(1, 20)\n",
    "\n",
    "# We can create Python dictionary using [] or dict()\n",
    "scores = []\n",
    "\n",
    "# We use a loop through the range 1 to 20\n",
    "# We append the scores in the dictionary\n",
    "for k in k_range:\n",
    "    knn = KNeighborsClassifier(n_neighbors=k)\n",
    "    knn.fit(x_train, y_train)\n",
    "    letter_pred = knn.predict(x_test)\n",
    "    scores.append(metrics.accuracy_score(y_test, letter_pred))\n",
    "\n",
    "print(scores)"
   ]
  },
  {
   "cell_type": "markdown",
   "id": "bf2509e2",
   "metadata": {},
   "source": [
    "#### PART 2 - NEURAL NETWORK MODEL"
   ]
  },
  {
   "cell_type": "code",
   "execution_count": 15,
   "id": "30d0103c",
   "metadata": {},
   "outputs": [],
   "source": [
    "from sklearn.preprocessing import StandardScaler\n",
    "X_train, X_test = x_train/255, x_test/255"
   ]
  },
  {
   "cell_type": "code",
   "execution_count": 16,
   "id": "18a4e24e",
   "metadata": {},
   "outputs": [],
   "source": [
    "#Package for neural network\n",
    "import tensorflow as tf\n",
    "from keras.models import Sequential\n",
    "from keras.layers import Dense"
   ]
  },
  {
   "cell_type": "code",
   "execution_count": 30,
   "id": "027cf3e2",
   "metadata": {},
   "outputs": [],
   "source": [
    "#Initializing neural network\n",
    "mlp = MLPClassifier(hidden_layer_sizes=(32, 16, 10), max_iter=20, activation='relu', solver='adam', random_state=1)"
   ]
  },
  {
   "cell_type": "code",
   "execution_count": 31,
   "id": "777b03b3",
   "metadata": {},
   "outputs": [
    {
     "data": {
      "text/plain": [
       "MLPClassifier(hidden_layer_sizes=(32, 16, 10), max_iter=20, random_state=1)"
      ]
     },
     "execution_count": 31,
     "metadata": {},
     "output_type": "execute_result"
    }
   ],
   "source": [
    "#Fitting the model\n",
    "mlp.fit(X_train, y_train)"
   ]
  },
  {
   "cell_type": "code",
   "execution_count": 33,
   "id": "a81f6ac0",
   "metadata": {},
   "outputs": [],
   "source": [
    "#Predict Y using X_test\n",
    "mlp_y_pred = mlp.predict(X_test)"
   ]
  },
  {
   "cell_type": "code",
   "execution_count": 36,
   "id": "b58c61de",
   "metadata": {},
   "outputs": [],
   "source": [
    "#Confusion matrix\n",
    "mlp_cm = confusion_matrix(mlp_y_pred, y_test)"
   ]
  },
  {
   "cell_type": "code",
   "execution_count": 38,
   "id": "d82fe472",
   "metadata": {},
   "outputs": [
    {
     "data": {
      "text/plain": [
       "Text(0.5, 257.44, 'Predicted')"
      ]
     },
     "execution_count": 38,
     "metadata": {},
     "output_type": "execute_result"
    },
    {
     "data": {
      "image/png": "[encoded data removed]",
      "text/plain": [
       "<Figure size 432x288 with 2 Axes>"
      ]
     },
     "metadata": {
      "needs_background": "light"
     },
     "output_type": "display_data"
    }
   ],
   "source": [
    "#Plot neural network confusion matrix\n",
    "# name of classes\n",
    "class_names=[0,1]\n",
    "fig, ax =plt.subplots()\n",
    "tick_marks = np.arange(len(class_names))\n",
    "plt.xticks(tick_marks, class_names)\n",
    "plt.yticks(tick_marks, class_names)\n",
    "\n",
    "#create heatmap for confusion matrix\n",
    "sns.heatmap(pd.DataFrame(mlp_cm), annot=True, cmap='rocket', fmt='g')\n",
    "ax.xaxis.set_label_position('top')\n",
    "plt.tight_layout()\n",
    "plt.title('Neural Network Confusion matrix', y=1.1)\n",
    "plt.ylabel('Actual')\n",
    "plt.xlabel('Predicted')"
   ]
  },
  {
   "cell_type": "code",
   "execution_count": 43,
   "id": "a0611b36",
   "metadata": {},
   "outputs": [
    {
     "name": "stdout",
     "output_type": "stream",
     "text": [
      "              precision    recall  f1-score   support\n",
      "\n",
      "           0       0.83      0.89      0.86       840\n",
      "           1       0.81      0.95      0.87       941\n",
      "           2       0.73      0.55      0.62       844\n",
      "           3       0.60      0.54      0.57       893\n",
      "           4       0.71      0.52      0.60       788\n",
      "           5       0.56      0.59      0.58       750\n",
      "           6       0.80      0.88      0.84       818\n",
      "           7       0.47      0.66      0.55       867\n",
      "           8       0.60      0.54      0.57       859\n",
      "           9       0.45      0.41      0.43       800\n",
      "\n",
      "    accuracy                           0.66      8400\n",
      "   macro avg       0.66      0.65      0.65      8400\n",
      "weighted avg       0.66      0.66      0.65      8400\n",
      "\n"
     ]
    }
   ],
   "source": [
    "print(classification_report(y_test, mlp_y_pred))"
   ]
  },
  {
   "cell_type": "code",
   "execution_count": 53,
   "id": "e3e66bfc",
   "metadata": {},
   "outputs": [
    {
     "data": {
      "text/plain": [
       "0.6566666666666666"
      ]
     },
     "execution_count": 53,
     "metadata": {},
     "output_type": "execute_result"
    }
   ],
   "source": [
    "mlp.score(X_test, y_test)"
   ]
  },
  {
   "cell_type": "code",
   "execution_count": null,
   "id": "fb678df6",
   "metadata": {},
   "outputs": [],
   "source": []
  }
 ],
 "metadata": {
  "kernelspec": {
   "display_name": "Python 3 (ipykernel)",
   "language": "python",
   "name": "python3"
  },
  "language_info": {
   "codemirror_mode": {
    "name": "ipython",
    "version": 3
   },
   "file_extension": ".py",
   "mimetype": "text/x-python",
   "name": "python",
   "nbconvert_exporter": "python",
   "pygments_lexer": "ipython3",
   "version": "3.9.7"
  }
 },
 "nbformat": 4,
 "nbformat_minor": 5
}
